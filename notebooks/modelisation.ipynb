{
 "cells": [
  {
   "cell_type": "code",
   "execution_count": 1,
   "id": "aea04b21",
   "metadata": {},
   "outputs": [],
   "source": [
    "import pandas as pd\n",
    "from sklearn.model_selection import train_test_split\n",
    "from sklearn.linear_model import LogisticRegression\n",
    "from sklearn.ensemble import RandomForestClassifier\n",
    "import xgboost as xgb\n",
    "from sklearn.neighbors import KNeighborsClassifier\n",
    "import joblib\n",
    "\n",
    "# Chargement du dataset nettoyé\n",
    "df = pd.read_csv(\"../data/heart_cleaned.csv\")\n"
   ]
  },
  {
   "cell_type": "code",
   "execution_count": 5,
   "id": "7018d799",
   "metadata": {},
   "outputs": [
    {
     "name": "stdout",
     "output_type": "stream",
     "text": [
      "Taille train : (242, 22)\n",
      "Taille test  : (61, 22)\n"
     ]
    }
   ],
   "source": [
    "# Séparation features / cible\n",
    "X = df.drop(\"target\", axis=1)\n",
    "y = df[\"target\"]\n",
    "\n",
    "# Train/Test split\n",
    "X_train, X_test, y_train, y_test = train_test_split(\n",
    "    X, y, test_size=0.2, stratify=y, random_state=42\n",
    ")\n",
    "\n",
    "print(\"Taille train :\", X_train.shape)\n",
    "print(\"Taille test  :\", X_test.shape)\n",
    "# Entraînement des modèles\n",
    "models = {\n",
    "    \"Logistic Regression\": LogisticRegression(max_iter=1000),\n",
    "    \"Random Forest\": RandomForestClassifier(n_estimators=100, random_state=42),\n",
    "    \"XGBoost\": xgb.XGBClassifier(use_label_encoder=False, eval_metric='logloss'),\n",
    "    \"KNN\": KNeighborsClassifier(n_neighbors=5)\n",
    "}   "
   ]
  },
  {
   "cell_type": "code",
   "execution_count": 6,
   "id": "45082f55",
   "metadata": {},
   "outputs": [
    {
     "name": "stdout",
     "output_type": "stream",
     "text": [
      "Logistic Regression entraînée et sauvegardée.\n",
      "Random Forest entraînée et sauvegardée.\n",
      "XGBoost entraînée et sauvegardée.\n"
     ]
    },
    {
     "name": "stderr",
     "output_type": "stream",
     "text": [
      "/Users/mohamedbah/maladie_cardiaque /venv/lib/python3.12/site-packages/xgboost/training.py:183: UserWarning: [18:11:57] WARNING: /Users/runner/work/xgboost/xgboost/src/learner.cc:738: \n",
      "Parameters: { \"use_label_encoder\" } are not used.\n",
      "\n",
      "  bst.update(dtrain, iteration=i, fobj=obj)\n"
     ]
    },
    {
     "data": {
      "text/plain": [
       "['../backend/models/heart_knn.pkl']"
      ]
     },
     "execution_count": 6,
     "metadata": {},
     "output_type": "execute_result"
    }
   ],
   "source": [
    "clf_lr = LogisticRegression(max_iter=1000)\n",
    "clf_lr.fit(X_train, y_train)\n",
    "joblib.dump(clf_lr, \"../backend/models/heart_lr.pkl\")\n",
    "print(\"Logistic Regression entraînée et sauvegardée.\")\n",
    "clf_rf = RandomForestClassifier(n_estimators=100, random_state=42)\n",
    "clf_rf.fit(X_train, y_train)\n",
    "joblib.dump(clf_rf, \"../backend/models/heart_rf.pkl\")\n",
    "print(\"Random Forest entraînée et sauvegardée.\")\n",
    "clf_xgb = xgb.XGBClassifier(use_label_encoder=False, eval_metric='logloss')\n",
    "clf_xgb.fit(X_train, y_train)\n",
    "joblib.dump(clf_xgb, \"../backend/models/heart_xgb.pkl\")\n",
    "print(\"XGBoost entraînée et sauvegardée.\")\n",
    "clf_knn = KNeighborsClassifier(n_neighbors=5)\n",
    "clf_knn.fit(X_train, y_train)\n",
    "joblib.dump(clf_knn, \"../backend/models/heart_knn.pkl\")         "
   ]
  },
  {
   "cell_type": "code",
   "execution_count": 7,
   "id": "78cc441b",
   "metadata": {},
   "outputs": [
    {
     "name": "stdout",
     "output_type": "stream",
     "text": [
      "Logistic Regression  accuracy : 0.869\n",
      "Random Forest        accuracy : 0.770\n",
      "XGBoost              accuracy : 0.721\n",
      "KNN                  accuracy : 0.787\n"
     ]
    }
   ],
   "source": [
    "from sklearn.metrics import accuracy_score\n",
    "\n",
    "for name, model in [\n",
    "    (\"Logistic Regression\", clf_lr),\n",
    "    (\"Random Forest\"      , clf_rf),\n",
    "    (\"XGBoost\"            , clf_xgb),\n",
    "    (\"KNN\"                , clf_knn)\n",
    "]:\n",
    "    acc = accuracy_score(y_test, model.predict(X_test))\n",
    "    print(f\"{name:20s} accuracy : {acc:.3f}\")\n"
   ]
  }
 ],
 "metadata": {
  "kernelspec": {
   "display_name": "venv",
   "language": "python",
   "name": "python3"
  },
  "language_info": {
   "codemirror_mode": {
    "name": "ipython",
    "version": 3
   },
   "file_extension": ".py",
   "mimetype": "text/x-python",
   "name": "python",
   "nbconvert_exporter": "python",
   "pygments_lexer": "ipython3",
   "version": "3.12.1"
  }
 },
 "nbformat": 4,
 "nbformat_minor": 5
}
